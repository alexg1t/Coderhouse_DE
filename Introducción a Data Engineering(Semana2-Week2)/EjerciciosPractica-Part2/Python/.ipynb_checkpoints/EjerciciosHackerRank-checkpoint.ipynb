{
 "cells": [
  {
   "cell_type": "code",
   "execution_count": 5,
   "id": "577130bc",
   "metadata": {},
   "outputs": [
    {
     "name": "stdout",
     "output_type": "stream",
     "text": [
      "Ingrese número: 29\n",
      "Weird\n"
     ]
    }
   ],
   "source": [
    "#Task 1 (todos los task se encuentran en HackerRank asi como en PythonEjercicios.md en esta misma carpeta)\n",
    "#Task 1 (all tasks can be found in HackerRank as well as in PythonEjercicios.md in this same folder)\n",
    "\n",
    "n = int(input(\"Enter number: \").strip())\n",
    "if n%2==1:\n",
    "    print(\"Weird\")\n",
    "elif n%2==0 and n>2 and n<5:\n",
    "    print(\"Not Weird\")\n",
    "elif n%2==0 and n>6 and n<=20:\n",
    "    print(\"Weird\")\n",
    "elif n%2==0 and n>20:\n",
    "    print(\"Not Weird\")"
   ]
  },
  {
   "cell_type": "code",
   "execution_count": 15,
   "id": "33642f38",
   "metadata": {},
   "outputs": [
    {
     "name": "stdout",
     "output_type": "stream",
     "text": [
      "Enter first number: 2\n",
      "Enter second number: 3\n",
      "Sum of both numbers: 5\n",
      "Substraction of both numbers: -1\n",
      "Product of both numbers: 6\n"
     ]
    }
   ],
   "source": [
    "#Task 2\n",
    "a = int(input(\"Enter first number: \"))\n",
    "b = int(input(\"Enter second number: \"))\n",
    "print(\"Sum of both numbers: \"+str(a+b))\n",
    "print(\"Difference of both numbers: \"+str(a-b))\n",
    "print(\"Product of both numbers: \"+str(a*b))\n"
   ]
  },
  {
   "cell_type": "code",
   "execution_count": 16,
   "id": "d16538e2",
   "metadata": {},
   "outputs": [
    {
     "name": "stdout",
     "output_type": "stream",
     "text": [
      "Enter first number: 2\n",
      "Enter second number: 4\n",
      "Result of integer division: 0\n",
      "Result of float division: 0.5\n"
     ]
    }
   ],
   "source": [
    "#Task 3\n",
    "a = int(input(\"Enter first number: \"))\n",
    "b = int(input(\"Enter second number: \"))\n",
    "print(\"Result of integer division: \"+str(a//b))\n",
    "print(\"Result of float division: \"+str(a/b))\n",
    "\n"
   ]
  },
  {
   "cell_type": "code",
   "execution_count": 19,
   "id": "a5299020",
   "metadata": {},
   "outputs": [
    {
     "name": "stdout",
     "output_type": "stream",
     "text": [
      "Enter number: 5\n",
      "0\n",
      "1\n",
      "4\n",
      "9\n",
      "16\n"
     ]
    }
   ],
   "source": [
    "#Task 4\n",
    "n= int(input(\"Enter number: \"))\n",
    "for i in range(0,n,1):\n",
    "    print(i*i)"
   ]
  },
  {
   "cell_type": "code",
   "execution_count": 26,
   "id": "d135fa73",
   "metadata": {},
   "outputs": [
    {
     "name": "stdout",
     "output_type": "stream",
     "text": [
      "Enter year: 2404\n"
     ]
    },
    {
     "data": {
      "text/plain": [
       "True"
      ]
     },
     "execution_count": 26,
     "metadata": {},
     "output_type": "execute_result"
    }
   ],
   "source": [
    "#Task 5\n",
    "\n",
    "def is_leap(year):\n",
    "    leap = False\n",
    "    \n",
    "    if year%4==0 and not year%100==0:\n",
    "        leap = True\n",
    "    else:\n",
    "        if year%100==0 and year%400==0:\n",
    "            leap=True\n",
    "        else:\n",
    "            leap=False\n",
    "\n",
    "    return leap\n",
    "\n",
    "year = int(input(\"Enter year: \"))\n",
    "is_leap(year)"
   ]
  },
  {
   "cell_type": "code",
   "execution_count": 32,
   "id": "298af226",
   "metadata": {},
   "outputs": [
    {
     "name": "stdout",
     "output_type": "stream",
     "text": [
      "Enter n: 5\n",
      "12345\n"
     ]
    }
   ],
   "source": [
    "#Task 6\n",
    "n = int(input(\"Enter n: \"))\n",
    "ls= list(range(1,n+1,1))\n",
    "ls=''.join(map(str, ls))\n",
    "print(ls)\n"
   ]
  },
  {
   "cell_type": "code",
   "execution_count": null,
   "id": "b4b33dc4",
   "metadata": {},
   "outputs": [],
   "source": []
  }
 ],
 "metadata": {
  "kernelspec": {
   "display_name": "Python 3 (ipykernel)",
   "language": "python",
   "name": "python3"
  },
  "language_info": {
   "codemirror_mode": {
    "name": "ipython",
    "version": 3
   },
   "file_extension": ".py",
   "mimetype": "text/x-python",
   "name": "python",
   "nbconvert_exporter": "python",
   "pygments_lexer": "ipython3",
   "version": "3.11.3"
  }
 },
 "nbformat": 4,
 "nbformat_minor": 5
}
