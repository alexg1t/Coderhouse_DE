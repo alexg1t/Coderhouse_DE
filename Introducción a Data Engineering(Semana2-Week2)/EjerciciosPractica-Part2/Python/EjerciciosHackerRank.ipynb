{
 "cells": [
  {
   "cell_type": "code",
   "execution_count": 5,
   "id": "e66c6f86",
   "metadata": {},
   "outputs": [
    {
     "name": "stdout",
     "output_type": "stream",
     "text": [
      "Ingrese número: 29\n",
      "Weird\n"
     ]
    }
   ],
   "source": [
    "#Task 1 (todos los task se encuentran en HackerRank asi como en PythonEjercicios.md en esta misma carpeta)\n",
    "#Task 1 (all tasks can be found in HackerRank as well as in PythonEjercicios.md in this same folder)\n",
    "\n",
    "n = int(input(\"Enter number: \").strip())\n",
    "if n%2==1:\n",
    "    print(\"Weird\")\n",
    "elif n%2==0 and n>2 and n<5:\n",
    "    print(\"Not Weird\")\n",
    "elif n%2==0 and n>6 and n<=20:\n",
    "    print(\"Weird\")\n",
    "elif n%2==0 and n>20:\n",
    "    print(\"Not Weird\")"
   ]
  },
  {
   "cell_type": "code",
   "execution_count": 15,
   "id": "407c4b37",
   "metadata": {},
   "outputs": [
    {
     "name": "stdout",
     "output_type": "stream",
     "text": [
      "Enter first number: 2\n",
      "Enter second number: 3\n",
      "Sum of both numbers: 5\n",
      "Substraction of both numbers: -1\n",
      "Product of both numbers: 6\n"
     ]
    }
   ],
   "source": [
    "#Task 2\n",
    "a = int(input(\"Enter first number: \"))\n",
    "b = int(input(\"Enter second number: \"))\n",
    "print(\"Sum of both numbers: \"+str(a+b))\n",
    "print(\"Difference of both numbers: \"+str(a-b))\n",
    "print(\"Product of both numbers: \"+str(a*b))\n"
   ]
  },
  {
   "cell_type": "code",
   "execution_count": 16,
   "id": "ec40f78f",
   "metadata": {},
   "outputs": [
    {
     "name": "stdout",
     "output_type": "stream",
     "text": [
      "Enter first number: 2\n",
      "Enter second number: 4\n",
      "Result of integer division: 0\n",
      "Result of float division: 0.5\n"
     ]
    }
   ],
   "source": [
    "#Task 3\n",
    "a = int(input(\"Enter first number: \"))\n",
    "b = int(input(\"Enter second number: \"))\n",
    "print(\"Result of integer division: \"+str(a//b))\n",
    "print(\"Result of float division: \"+str(a/b))\n",
    "\n"
   ]
  },
  {
   "cell_type": "code",
   "execution_count": 19,
   "id": "034e8ed1",
   "metadata": {},
   "outputs": [
    {
     "name": "stdout",
     "output_type": "stream",
     "text": [
      "Enter number: 5\n",
      "0\n",
      "1\n",
      "4\n",
      "9\n",
      "16\n"
     ]
    }
   ],
   "source": [
    "#Task 4\n",
    "n= int(input(\"Enter number: \"))\n",
    "for i in range(0,n,1):\n",
    "    print(i*i)"
   ]
  },
  {
   "cell_type": "code",
   "execution_count": 26,
   "id": "4af7ce78",
   "metadata": {},
   "outputs": [
    {
     "name": "stdout",
     "output_type": "stream",
     "text": [
      "Enter year: 2404\n"
     ]
    },
    {
     "data": {
      "text/plain": [
       "True"
      ]
     },
     "execution_count": 26,
     "metadata": {},
     "output_type": "execute_result"
    }
   ],
   "source": [
    "#Task 5\n",
    "\n",
    "def is_leap(year):\n",
    "    leap = False\n",
    "    \n",
    "    if year%4==0 and not year%100==0:\n",
    "        leap = True\n",
    "    else:\n",
    "        if year%100==0 and year%400==0:\n",
    "            leap=True\n",
    "        else:\n",
    "            leap=False\n",
    "\n",
    "    return leap\n",
    "\n",
    "year = int(input(\"Enter year: \"))\n",
    "is_leap(year)"
   ]
  },
  {
   "cell_type": "code",
   "execution_count": 32,
   "id": "07bc5669",
   "metadata": {},
   "outputs": [
    {
     "name": "stdout",
     "output_type": "stream",
     "text": [
      "Enter n: 5\n",
      "12345\n"
     ]
    }
   ],
   "source": [
    "#Task 6\n",
    "n = int(input(\"Enter n: \"))\n",
    "ls= list(range(1,n+1,1))\n",
    "ls=''.join(map(str, ls))\n",
    "print(ls)\n"
   ]
  },
  {
   "cell_type": "code",
   "execution_count": 56,
   "id": "85494c72",
   "metadata": {},
   "outputs": [
    {
     "name": "stdout",
     "output_type": "stream",
     "text": [
      "Enter length AB: 10\n",
      "Enter length BC: 10\n",
      "45°\n"
     ]
    }
   ],
   "source": [
    "#Task 7\n",
    "import math\n",
    "\n",
    "ab=round(float(input(\"Enter length AB: \")))\n",
    "bc=round(float(input(\"Enter length BC: \")))\n",
    "a1s=round(math.atan(ab/bc)*180/(math.pi))\n",
    "print(str(a1s)+str(chr(176)))\n",
    "#It appears that the writing in input is not well accepted by the HackerRank compiler :s (same goes for a lot of the tasks)\n"
   ]
  },
  {
   "cell_type": "code",
   "execution_count": 61,
   "id": "f269f8e5",
   "metadata": {},
   "outputs": [
    {
     "name": "stdout",
     "output_type": "stream",
     "text": [
      "Enter number N: 5\n",
      "1\n",
      "121\n",
      "12321\n",
      "1234321\n",
      "123454321\n"
     ]
    }
   ],
   "source": [
    "#Task 8\n",
    "n=int(input(\"Enter number N: \"))\n",
    "for i in range(1,n+1):\n",
    "    print(((10**i)//9)**2)\n",
    "    \n"
   ]
  },
  {
   "cell_type": "code",
   "execution_count": 43,
   "id": "b205fb69",
   "metadata": {},
   "outputs": [
    {
     "name": "stdout",
     "output_type": "stream",
     "text": [
      "10\n",
      "2 3 4 5 6 7 8 8 8 8 8\n",
      "7\n"
     ]
    }
   ],
   "source": [
    "#Task 9\n",
    "n = int(input())\n",
    "\n",
    "arr = list(map(int, input().split()))\n",
    "a=max(arr)\n",
    "arr.remove(a)\n",
    "while max(arr)==a:\n",
    "    arr.remove(a)\n",
    "a=max(arr)\n",
    "print(a)\n"
   ]
  },
  {
   "cell_type": "markdown",
   "id": "53e49103",
   "metadata": {},
   "source": []
  }
 ],
 "metadata": {
  "kernelspec": {
   "display_name": "Python 3 (ipykernel)",
   "language": "python",
   "name": "python3"
  },
  "language_info": {
   "codemirror_mode": {
    "name": "ipython",
    "version": 3
   },
   "file_extension": ".py",
   "mimetype": "text/x-python",
   "name": "python",
   "nbconvert_exporter": "python",
   "pygments_lexer": "ipython3",
   "version": "3.11.3"
  }
 },
 "nbformat": 4,
 "nbformat_minor": 5
}
