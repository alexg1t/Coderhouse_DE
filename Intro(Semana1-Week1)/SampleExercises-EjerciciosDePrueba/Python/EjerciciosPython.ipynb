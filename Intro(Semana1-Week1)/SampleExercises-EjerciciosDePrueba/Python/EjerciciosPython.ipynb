{
 "cells": [
  {
   "cell_type": "code",
   "execution_count": 1,
   "id": "cfdf0d17",
   "metadata": {},
   "outputs": [
    {
     "name": "stdout",
     "output_type": "stream",
     "text": [
      "Introduce número impar: 15\n",
      "Ingresó el número impar: 15\n",
      "FIN\n"
     ]
    }
   ],
   "source": [
    "#a) Escribir programa que lea un número, que de ser impar termine su ejecución.\n",
    "#De lo contrario repetir hasta que se ingrese un número impar.\n",
    "\n",
    "while(1):\n",
    "    a= input(\"Introduce número impar: \")\n",
    "    if int(a)%2==0:\n",
    "        print(\"Introduzca número impar\")\n",
    "    else:\n",
    "        print(\"Ingresó el número impar: \"+(a))\n",
    "        print(\"FIN\")\n",
    "        break\n",
    "    "
   ]
  },
  {
   "cell_type": "code",
   "execution_count": 4,
   "id": "dfbced59",
   "metadata": {},
   "outputs": [
    {
     "name": "stdout",
     "output_type": "stream",
     "text": [
      "Introduce el número de datos a promediar: 4\n",
      "Introduce el 1 número: 4\n",
      "Introduce el 2 número: 4\n",
      "Introduce el 3 número: 4\n",
      "Introduce el 4 número: 4\n",
      "El promedio es: 4.0\n"
     ]
    }
   ],
   "source": [
    "#b) Escribir un programa que inicialmente solicite un número que determine\n",
    "#la cantidad de números que se tienen que introducir. Luego calcular su promedio.\n",
    "\n",
    "suma=0\n",
    "i=int(input(\"Introduce el número de datos a promediar: \"))\n",
    "for i in range(0,i,1):\n",
    "    a=input(\"Introduce el \"+str(i+1)+\" número: \")\n",
    "    suma=suma+int(a)\n",
    "\n",
    "promedio=suma/(i+1)\n",
    "print(\"El promedio es: \" + str(promedio))"
   ]
  },
  {
   "cell_type": "code",
   "execution_count": 21,
   "id": "e5a87281",
   "metadata": {},
   "outputs": [
    {
     "name": "stdout",
     "output_type": "stream",
     "text": [
      "Introduce el número base (a) para las listas: 15\n",
      "-Los números del 0 al 15\n",
      "[0, 1, 2, 3, 4, 5, 6, 7, 8, 9, 10, 11, 12, 13, 14, 15]\n",
      "-Los números del -15 al 0 \n",
      "[-15, -14, -13, -12, -11, -10, -9, -8, -7, -6, -5, -4, -3, -2, -1, 0]\n",
      "-Números pares del 0 al 15\n",
      "[0, 2, 4, 6, 8, 10, 12, 14]\n",
      "-Números impares de -15 a 0 \n",
      "[-15, -13, -11, -9, -7, -5, -3, -1]\n",
      "-Números múltiples de 5 desde 0 a 15\n",
      "[0, 5, 10, 15]\n"
     ]
    }
   ],
   "source": [
    "\n",
    "#c) Escribir programa que use función range() que haga lo siguiente:\n",
    "#\t-Los números del 0 al a [0,1,2,3,......,a]\n",
    "#\t-Los números del -a al 0 [-a ...,-1,0,1,...a]\n",
    "#\t-Números pares del 0 al a [0,2,4,6,.......a]\n",
    "#\t-Números impares de -a a 0 [-a,......,0]\n",
    "#\t-Números múltiples de 5 desde 0 a a [0,5,10,15,...,a]\n",
    "#Hare una lista para cada uno\n",
    "#\tIngreso de numero base\n",
    "a=int(input(\"Introduce el número base (a) para las listas: \"))\n",
    "\n",
    "#\t-Los números del 0 al a [0,1,2,3,......,a]\n",
    "lista1=[numero for numero in range(a+1)]\n",
    "print(\"-Los números del 0 al \"+str(a))\n",
    "print(lista1)\n",
    "#\t-Los números del -a al 0 [0,1,2,3,......,a]\n",
    "lista2=[numero for numero in range(-a, 1)]\n",
    "print(\"-Los números del -\"+str(a)+ \" al 0 \")\n",
    "print(lista2)\n",
    "#\t-Números pares del 0 al a [0,2,4,6,.......a]\n",
    "lista3=[numero for numero in range(a+1) if numero%2==0]\n",
    "print(\"-Números pares del 0 al \"+str(a))\n",
    "print(lista3)\n",
    "#\t-Números impares de -a a 0 [-a,......,0]\n",
    "lista4=[numero for numero in range(-a,1) if not numero%2==0]\n",
    "print(\"-Números impares de -\"+str(a)+\" a 0 \")\n",
    "print(lista4)\n",
    "#\t-Números múltiples de 5 desde 0 a a [0,5,10,15,...,a]\n",
    "lista5=[numero for numero in range(a+1) if numero%5==0]\n",
    "print(\"-Números múltiples de 5 desde 0 a \"+str(a))\n",
    "print(lista5)\n",
    "\n",
    "\n"
   ]
  },
  {
   "cell_type": "code",
   "execution_count": 34,
   "id": "d1a9c169",
   "metadata": {},
   "outputs": [
    {
     "name": "stdout",
     "output_type": "stream",
     "text": [
      "Ingrese lista 1 separada por espacios solamente2 4 6 8 10 11\n",
      "Ingrese lista 2 separada por espacios solamente6 8 12 15 18\n",
      "['10', '11', '12', '15', '18', '2', '4', '6', '8']\n"
     ]
    }
   ],
   "source": [
    "#d) Crear un programa que cree una lista a partir de dos previas. En esta lista no deben haber duplicados.\n",
    "a=input(\"Ingrese lista 1 separada por espacios solamente: \")\n",
    "b=input(\"Ingrese lista 2 separada por espacios solamente: \")\n",
    "a=a.split()\n",
    "b=b.split()\n",
    "c = set(a) | set(b)\n",
    "lista=list(c);\n",
    "print(lista)\n",
    "\n",
    "\n"
   ]
  },
  {
   "cell_type": "code",
   "execution_count": 2,
   "id": "1e755b65",
   "metadata": {},
   "outputs": [
    {
     "name": "stdout",
     "output_type": "stream",
     "text": [
      "Introduce el número base: 100\n",
      "La suma de los numeros impares hasta el número 100 es: 2500\n"
     ]
    }
   ],
   "source": [
    "#e) Escribir un programa que sume los impares desde 0 hasta a.\n",
    "a=int(input(\"Introduce el número base: \"))\n",
    "suma=0;\n",
    "for i in range(0,a+1,1):\n",
    "    if i%2==0:\n",
    "        suma=suma\n",
    "    else:\n",
    "        suma=suma+i\n",
    "print(\"La suma de los numeros impares hasta el número \"+str(a)+\" es: \"+str(suma));\n",
    "        \n",
    "    \n"
   ]
  },
  {
   "cell_type": "code",
   "execution_count": 2,
   "id": "e893a1bf",
   "metadata": {},
   "outputs": [
    {
     "name": "stdout",
     "output_type": "stream",
     "text": [
      "Ingrese lista separada por espacios solamente: 1 2 3 4 5 6 6 7\n",
      "Ingrese elemento que se debe revisar: 2\n",
      "El elemento: 2 se repite 1 veces.\n"
     ]
    }
   ],
   "source": [
    "#f) Escribe un programa que cuente cuantas veces se repite un elemento en una lista.\n",
    "\n",
    "a=input(\"Ingrese lista separada por espacios solamente: \")\n",
    "b=input(\"Ingrese elemento que se debe revisar: \")\n",
    "contador=0\n",
    "a=a.split()\n",
    "for elemento in a:\n",
    "    if elemento==b:\n",
    "        contador=contador+1\n",
    "    else:\n",
    "        contador=contador\n",
    "print(\"El elemento \" +str(b)+\" se repite \"+str(contador)+\" veces.\")\n",
    "        \n"
   ]
  },
  {
   "cell_type": "code",
   "execution_count": null,
   "id": "600e3084",
   "metadata": {},
   "outputs": [],
   "source": []
  }
 ],
 "metadata": {
  "kernelspec": {
   "display_name": "Python 3 (ipykernel)",
   "language": "python",
   "name": "python3"
  },
  "language_info": {
   "codemirror_mode": {
    "name": "ipython",
    "version": 3
   },
   "file_extension": ".py",
   "mimetype": "text/x-python",
   "name": "python",
   "nbconvert_exporter": "python",
   "pygments_lexer": "ipython3",
   "version": "3.11.3"
  }
 },
 "nbformat": 4,
 "nbformat_minor": 5
}
