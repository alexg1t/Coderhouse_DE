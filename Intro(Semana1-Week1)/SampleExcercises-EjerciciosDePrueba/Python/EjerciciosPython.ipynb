{
 "cells": [
  {
   "cell_type": "code",
   "execution_count": 9,
   "id": "cfdf0d17",
   "metadata": {},
   "outputs": [
    {
     "name": "stdout",
     "output_type": "stream",
     "text": [
      "Introduce numero impar: 32\n",
      "Introduzca numero impar\n",
      "Introduce numero impar: 23\n",
      "Ingresó el numero impar: 23\n",
      "FIN\n"
     ]
    }
   ],
   "source": [
    "#a) Escribir programa que lea un número, que de ser impar termine su ejecución.\n",
    "#De lo contrario repetir hasta que se ingrese un número impar.\n",
    "\n",
    "while(1):\n",
    "    a= input(\"Introduce número impar: \")\n",
    "    if int(a)%2==0:\n",
    "        print(\"Introduzca número impar\")\n",
    "    else:\n",
    "        print(\"Ingresó el número impar: \"+(a))\n",
    "        print(\"FIN\")\n",
    "        break\n",
    "    "
   ]
  },
  {
   "cell_type": "code",
   "execution_count": 21,
   "id": "78bd42f1",
   "metadata": {},
   "outputs": [
    {
     "name": "stdout",
     "output_type": "stream",
     "text": [
      "Introduce el número de datos a promediar: 10\n",
      "Introduce el 1 número: 2\n",
      "Introduce el 2 número: 2\n",
      "Introduce el 3 número: 2\n",
      "Introduce el 4 número: 2\n",
      "Introduce el 5 número: 2\n",
      "Introduce el 6 número: 2\n",
      "Introduce el 7 número: 2\n",
      "Introduce el 8 número: 2\n",
      "Introduce el 9 número: 2\n",
      "Introduce el 10 número: 2\n",
      "El promedio es: 2.0\n"
     ]
    }
   ],
   "source": [
    "#b) Escribir un programa que inicialmente solicite un número que determine\n",
    "#la cantidad de números que se tienen que introducir. Luego calcular su promedio.\n",
    "\n",
    "suma=0\n",
    "i=int(input(\"Introduce el número de datos a promediar: \"))\n",
    "for i in range(0,i,1):\n",
    "    a=input(\"Introduce el \"+str(i+1)+\" número: \")\n",
    "    suma=suma+int(a)\n",
    "\n",
    "promedio=suma/(i+1)\n",
    "print(\"El promedio es: \" + str(promedio))\n",
    "\n",
    "\n"
   ]
  },
  {
   "cell_type": "code",
   "execution_count": null,
   "id": "dfbced59",
   "metadata": {},
   "outputs": [],
   "source": []
  }
 ],
 "metadata": {
  "kernelspec": {
   "display_name": "Python 3 (ipykernel)",
   "language": "python",
   "name": "python3"
  },
  "language_info": {
   "codemirror_mode": {
    "name": "ipython",
    "version": 3
   },
   "file_extension": ".py",
   "mimetype": "text/x-python",
   "name": "python",
   "nbconvert_exporter": "python",
   "pygments_lexer": "ipython3",
   "version": "3.11.3"
  }
 },
 "nbformat": 4,
 "nbformat_minor": 5
}
